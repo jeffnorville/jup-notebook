{
 "cells": [
  {
   "cell_type": "code",
   "execution_count": 1,
   "id": "9f1abfd1",
   "metadata": {},
   "outputs": [
    {
     "ename": "ModuleNotFoundError",
     "evalue": "No module named 'cdstoolbox'",
     "output_type": "error",
     "traceback": [
      "\u001b[1;31m---------------------------------------------------------------------------\u001b[0m",
      "\u001b[1;31mModuleNotFoundError\u001b[0m                       Traceback (most recent call last)",
      "\u001b[1;32m~\\AppData\\Local\\Temp\\ipykernel_21848\\1274918955.py\u001b[0m in \u001b[0;36m<module>\u001b[1;34m\u001b[0m\n\u001b[0;32m      1\u001b[0m \u001b[1;32mfrom\u001b[0m \u001b[0mcollections\u001b[0m \u001b[1;32mimport\u001b[0m \u001b[0mOrderedDict\u001b[0m\u001b[1;33m\u001b[0m\u001b[1;33m\u001b[0m\u001b[0m\n\u001b[1;32m----> 2\u001b[1;33m \u001b[1;32mimport\u001b[0m \u001b[0mcdstoolbox\u001b[0m \u001b[1;32mas\u001b[0m \u001b[0mct\u001b[0m\u001b[1;33m\u001b[0m\u001b[1;33m\u001b[0m\u001b[0m\n\u001b[0m",
      "\u001b[1;31mModuleNotFoundError\u001b[0m: No module named 'cdstoolbox'"
     ]
    }
   ],
   "source": [
    "from qgis.core import *\n",
    "\n",
    "# read this: https://anitagraser.com/2023/01/21/pyqgis-jupyter-notebooks-on-windows-using-conda/\n",
    "\n",
    "# Initialize QGIS application\n",
    "QgsApplication.setPrefixPath(\"C:/ProgramData/Microsoft/Windows/Start Menu/Programs/OSGeo4W\", True) #update\n",
    "qgs = QgsApplication([], False)\n",
    "qgs.initQgis()\n",
    "\n",
    "# Set the path to the geodatabase\n",
    "path_to_gdb = \"G:/1_Affaires/46-50/49000/49175_LANDSCAPE_MASTERPLAN_KING_SALMAN_PARK/Mission/QGIS/230316_utils/cor.gpkg\"\n",
    "\n",
    "# Open the geodatabase as a QgsVectorLayer\n",
    "gdb_layer = QgsVectorLayer(path_to_gdb, \"geodatabase_layer\", \"ogr\")\n",
    "\n",
    "# Set the names of the two layers to search for\n",
    "layer1_name = \"Manholes_KSP_SWMM_2022-11-28_100yr_20pct_2hr\"\n",
    "layer2_name = \"layer2\"\n",
    "\n",
    "# Get references to the two layers\n",
    "layer1 = QgsProject.instance().mapLayersByName(layer1_name)[0]\n",
    "layer2 = QgsProject.instance().mapLayersByName(layer2_name)[0]\n",
    "\n",
    "# Create a spatial index for layer1\n",
    "layer1_index = QgsSpatialIndex(layer1.getFeatures())\n",
    "\n",
    "# Iterate over features in layer2 and find related features in layer1\n",
    "for feature2 in layer2.getFeatures():\n",
    "    # Use the spatial index to find nearby features in layer1\n",
    "    nearby_features = layer1_index.nearestNeighbor(feature2.geometry().asPoint(), 10)\n",
    "    # Iterate over nearby features and check for matching attributes\n",
    "    for nearby_feature in nearby_features:\n",
    "        if feature2[\"attribute1\"] == layer1.getFeature(nearby_feature)[\"attribute1\"] and feature2[\"attribute2\"] == layer1.getFeature(nearby_feature)[\"attribute2\"]:\n",
    "            print(\"Feature {} in {} is related to feature {} in {}\".format(feature2.id(), layer2_name, nearby_feature, layer1_name))\n",
    "\n",
    "# Exit QGIS application\n",
    "qgs.exitQgis()\n"
   ]
  },
  {
   "cell_type": "code",
   "execution_count": null,
   "id": "0535a276",
   "metadata": {},
   "outputs": [],
   "source": []
  },
  {
   "cell_type": "markdown",
   "id": "d84e6374",
   "metadata": {},
   "source": []
  }
 ],
 "metadata": {
  "kernelspec": {
   "display_name": "base",
   "language": "python",
   "name": "python3"
  },
  "language_info": {
   "codemirror_mode": {
    "name": "ipython",
    "version": 3
   },
   "file_extension": ".py",
   "mimetype": "text/x-python",
   "name": "python",
   "nbconvert_exporter": "python",
   "pygments_lexer": "ipython3",
   "version": "3.9.1"
  },
  "vscode": {
   "interpreter": {
    "hash": "c2e2571c4c70778f922cd2753a0a872c1997a3903bb3b1d9385c9d9ff8714a57"
   }
  }
 },
 "nbformat": 4,
 "nbformat_minor": 5
}
